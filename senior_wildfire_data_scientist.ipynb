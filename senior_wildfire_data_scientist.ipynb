{
 "cells": [
  {
   "cell_type": "markdown",
   "metadata": {},
   "source": [
    "# Senior Wildfire Data Scientist\n",
    "\n",
    "This take home exercise is designed for you to demonstrate technical competency with a short exercise.\n",
    "\n",
    "We would like you to address the following prompts using the associated data file. We expect this exercise to take less than one hour depending on your familiarity with the APIs of Python packages like numpy, pandas and geopandas, shapely, and scikit-learn.\n",
    "\n",
    "Please take extra care to fully read the prompts before beginning your work, as the final step is the most important.\n",
    "\n",
    "## Submission instructions\n",
    "\n",
    "1. Please submit a jupyter notebook with well-documented code, descriptive comments, and textual or visual outputs where necessary.\n",
    "1. Please pay special attention to documenting your thought process. Tell us what you've learned, what questions arise, how you would build on this work, etc. \n",
    "\n",
    "## Prompts\n",
    "\n",
    "### Description\n",
    "\n",
    "A potential customer has provided Overstory with a data file containing ground-truth information from their network. They claim this data file has information on the location of their poles and lines, as well as counts of healthy and dead trees nearby those lines. They further claim that independent contractors have examined a subset of their network, and have rated lines as either low, medium, or high risk. We have no further information from the client as to how the healthy or dead tree counts were collected, how the risk ratings were generated, or generally how to interpret the data.\n",
    "\n",
    "### Exploration\n",
    "\n",
    "Your non-technical Overstory colleagues have a few questions about the data. Please feel free to use these questions as inspiration for exploring the data, and do not feel the need to dive deep on any particular question or uncover any profound patterns.\n",
    "1. Can you say anything about the geographic distribution of the network? Please note there is no CRS with this data source, and the coordinates are completely fabricated.\n",
    "1. Can we trust the counts of healthy and dead trees?\n",
    "1. Are there any patterns to be found in the relationship between healthy and dead trees?\n",
    "1. Are there any geographic patterns to be found in the distribution of healthy and dead trees?\n",
    "1. What do the columns \"*_near_line\" mean?\n",
    "\n",
    "### Modeling\n",
    "\n",
    "Most importantly, it appears that only a subset of the risk ratings are available. Can we impress the customer by coming up with a model that predicts the risk ratings for the lines where risk rating is not available? Please show your work and communicate your confidence in this model. \n",
    "\n",
    "How would you recommend that your Overstory colleagues describe this work to the customer at their next meeting? Do you have any follow-up questions for the customer that would help you to extend your work?"
   ]
  }
 ],
 "metadata": {
  "kernelspec": {
   "display_name": "overstory",
   "language": "python",
   "name": "python3"
  },
  "language_info": {
   "codemirror_mode": {
    "name": "ipython",
    "version": 3
   },
   "file_extension": ".py",
   "mimetype": "text/x-python",
   "name": "python",
   "nbconvert_exporter": "python",
   "pygments_lexer": "ipython3",
   "version": "3.13.2"
  }
 },
 "nbformat": 4,
 "nbformat_minor": 2
}
